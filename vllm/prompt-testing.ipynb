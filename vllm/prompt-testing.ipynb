{
 "cells": [
  {
   "cell_type": "code",
   "execution_count": 1,
   "id": "321c1c28-21b4-4570-86f3-5a3184d84c4a",
   "metadata": {},
   "outputs": [
    {
     "data": {
      "application/vnd.jupyter.widget-view+json": {
       "model_id": "230c1f746654416f8ac5bbad62125af1",
       "version_major": 2,
       "version_minor": 0
      },
      "text/plain": [
       "config.json:   0%|          | 0.00/603 [00:00<?, ?B/s]"
      ]
     },
     "metadata": {},
     "output_type": "display_data"
    },
    {
     "name": "stdout",
     "output_type": "stream",
     "text": [
      "INFO 02-24 15:58:42 llm_engine.py:79] Initializing an LLM engine with config: model='microsoft/Orca-2-13b', tokenizer='microsoft/Orca-2-13b', tokenizer_mode=auto, revision=None, tokenizer_revision=None, trust_remote_code=False, dtype=torch.float16, max_seq_len=4096, download_dir=None, load_format=auto, tensor_parallel_size=1, disable_custom_all_reduce=False, quantization=None, enforce_eager=False, kv_cache_dtype=auto, device_config=cuda, seed=0)\n"
     ]
    },
    {
     "data": {
      "application/vnd.jupyter.widget-view+json": {
       "model_id": "0a0ea04d884e41babf5d714c21e8ebd6",
       "version_major": 2,
       "version_minor": 0
      },
      "text/plain": [
       "tokenizer_config.json:   0%|          | 0.00/828 [00:00<?, ?B/s]"
      ]
     },
     "metadata": {},
     "output_type": "display_data"
    },
    {
     "data": {
      "application/vnd.jupyter.widget-view+json": {
       "model_id": "28a7ba2f707f448e8078e53ccf30c350",
       "version_major": 2,
       "version_minor": 0
      },
      "text/plain": [
       "tokenizer.model:   0%|          | 0.00/500k [00:00<?, ?B/s]"
      ]
     },
     "metadata": {},
     "output_type": "display_data"
    },
    {
     "data": {
      "application/vnd.jupyter.widget-view+json": {
       "model_id": "a1ea4663ee714812a2b7c4c14c46067e",
       "version_major": 2,
       "version_minor": 0
      },
      "text/plain": [
       "added_tokens.json:   0%|          | 0.00/69.0 [00:00<?, ?B/s]"
      ]
     },
     "metadata": {},
     "output_type": "display_data"
    },
    {
     "data": {
      "application/vnd.jupyter.widget-view+json": {
       "model_id": "4f3671cea0d84ef9bc94c4493c96e7ea",
       "version_major": 2,
       "version_minor": 0
      },
      "text/plain": [
       "special_tokens_map.json:   0%|          | 0.00/438 [00:00<?, ?B/s]"
      ]
     },
     "metadata": {},
     "output_type": "display_data"
    },
    {
     "name": "stdout",
     "output_type": "stream",
     "text": [
      "INFO 02-24 15:58:47 weight_utils.py:163] Using model weights format ['*.bin']\n"
     ]
    },
    {
     "data": {
      "application/vnd.jupyter.widget-view+json": {
       "model_id": "6429b45c6c014b3fba1fa83d3c35d757",
       "version_major": 2,
       "version_minor": 0
      },
      "text/plain": [
       "pytorch_model-00004-of-00006.bin:   0%|          | 0.00/9.87G [00:00<?, ?B/s]"
      ]
     },
     "metadata": {},
     "output_type": "display_data"
    },
    {
     "data": {
      "application/vnd.jupyter.widget-view+json": {
       "model_id": "21f1031622634cadb1fed3ea5ba99f6a",
       "version_major": 2,
       "version_minor": 0
      },
      "text/plain": [
       "pytorch_model-00002-of-00006.bin:   0%|          | 0.00/9.94G [00:00<?, ?B/s]"
      ]
     },
     "metadata": {},
     "output_type": "display_data"
    },
    {
     "data": {
      "application/vnd.jupyter.widget-view+json": {
       "model_id": "6b5da43436c5457a8ced30f99bb2cc8a",
       "version_major": 2,
       "version_minor": 0
      },
      "text/plain": [
       "pytorch_model-00005-of-00006.bin:   0%|          | 0.00/9.87G [00:00<?, ?B/s]"
      ]
     },
     "metadata": {},
     "output_type": "display_data"
    },
    {
     "data": {
      "application/vnd.jupyter.widget-view+json": {
       "model_id": "68a3c5f558b3433dbefb26a006f29ce4",
       "version_major": 2,
       "version_minor": 0
      },
      "text/plain": [
       "pytorch_model-00006-of-00006.bin:   0%|          | 0.00/2.49G [00:00<?, ?B/s]"
      ]
     },
     "metadata": {},
     "output_type": "display_data"
    },
    {
     "data": {
      "application/vnd.jupyter.widget-view+json": {
       "model_id": "972c5a388db04b24baf34373ad92775f",
       "version_major": 2,
       "version_minor": 0
      },
      "text/plain": [
       "pytorch_model-00001-of-00006.bin:   0%|          | 0.00/9.96G [00:00<?, ?B/s]"
      ]
     },
     "metadata": {},
     "output_type": "display_data"
    },
    {
     "data": {
      "application/vnd.jupyter.widget-view+json": {
       "model_id": "0fe5352515bc4bfaa1ab0ab2c018b974",
       "version_major": 2,
       "version_minor": 0
      },
      "text/plain": [
       "pytorch_model-00003-of-00006.bin:   0%|          | 0.00/9.94G [00:00<?, ?B/s]"
      ]
     },
     "metadata": {},
     "output_type": "display_data"
    },
    {
     "name": "stdout",
     "output_type": "stream",
     "text": [
      "INFO 02-24 16:07:15 llm_engine.py:337] # GPU blocks: 1067, # CPU blocks: 327\n",
      "INFO 02-24 16:07:17 model_runner.py:676] Capturing the model for CUDA graphs. This may lead to unexpected consequences if the model is not static. To run the model in eager mode, set 'enforce_eager=True' or use '--enforce-eager' in the CLI.\n",
      "INFO 02-24 16:07:17 model_runner.py:680] CUDA graphs can take additional 1~3 GiB memory per GPU. If you are running out of memory, consider decreasing `gpu_memory_utilization` or enforcing eager mode. You can also reduce the `max_num_seqs` as needed to decrease memory usage.\n",
      "INFO 02-24 16:07:23 model_runner.py:748] Graph capturing finished in 6 secs.\n"
     ]
    }
   ],
   "source": [
    "from vllm import LLM\n",
    "# model = \"berkeley-nest/Starling-LM-7B-alpha\"\n",
    "model = \"microsoft/Orca-2-13b\"\n",
    "llm = LLM(model = model, gpu_memory_utilization = 0.80)"
   ]
  },
  {
   "cell_type": "code",
   "execution_count": 61,
   "id": "c273d3a5-ab4e-4cba-a963-bf752345bf23",
   "metadata": {},
   "outputs": [
    {
     "name": "stderr",
     "output_type": "stream",
     "text": [
      "Processed prompts: 100%|██████████| 1/1 [00:03<00:00,  3.45s/it]"
     ]
    },
    {
     "name": "stdout",
     "output_type": "stream",
     "text": [
      "<|im_start|>system\n",
      "You are iTELL AI, a reading support agent that helps students with an instructional text called Business Law. Business Law and the Legal Environment (Saylor Academy, 2022) provides context and essential concepts across the entire range of legal issues with which managers and business executives must grapple. The text provides the vocabulary and legal acumen necessary for businesspeople to talk in an educated way to their customers, employees, suppliers, government officials—and to their own lawyers.\n",
      "iTELL stands for intelligent texts for enhanced lifelong learning. After reading a page in iTELL, the student must submit a summary of that page. iTELL AI will try to help help students understand the text, but iTELL AI will not write any summaries for the student. If the student asks iTELL AI for a summary, iTELL AI will tell the student that it cannot write the summary for them. iTELL AI cannot provide any hyperlinks to external resources. iTELL AI is factual and concise. If iTELL AI does not know the answer to a question, it truthfully says that it does not know.\n",
      "START CONTEXT BLOCK\n",
      "In a nation, the law can serve to (1) keep the peace, (2) maintain the status quo, (3) preserve individual rights, (4) protect minorities against majorities, (5) promote social justice, and (6) provide for orderly social change. Some legal systems serve these purposes better than others. Although a nation ruled by an authoritarian government may keep the peace and maintain the status quo, it may also oppress minorities or political opponents (e.g., Burma, Zimbabwe, or Iraq under Saddam Hussein). Under colonialism, European nations often imposed peace in countries whose borders were somewhat arbitrarily created by those same European nations. Over several centuries prior to the twentieth century, empires were built by Spain, Portugal, Britain, Holland, France, Germany, Belgium, and Italy. With regard to the functions of the law, the empire may have kept the peace—largely with force—but it changed the status quo and seldom promoted the native peoples’ rights or social justice within the colonized nation.\n",
      "\n",
      "In nations that were former colonies of European nations, various ethnic and tribal factions have frequently made it difficult for a single, united government to rule effectively. In Rwanda, for example, power struggles between Hutus and Tutsis resulted in genocide of the Tutsi minority. (Genocide is the deliberate and systematic killing or displacement of one group of people by another group. In 1948, the international community formally condemned the crime of genocide.) In nations of the former Soviet Union, the withdrawal of a central power created power vacuums that were exploited by ethnic leaders. When Yugoslavia broke up, the different ethnic groups—Croats, Bosnians, and Serbians—fought bitterly for home turf rather than share power. In Iraq and Afghanistan, the effective blending of different groups of families, tribes, sects, and ethnic groups into a national governing body that shares power remains to be seen.\n",
      "END OF CONTEXT BLOCK<|im_end|>\n",
      "<|im_start|>system\n",
      "START SAMPLE DIALOGUE\n",
      "student\n",
      "What can you do for me?\n",
      "iTELL AI\n",
      "I am an AI assistant which helps answer questions about Business Law, but I cannot write summaries for you.\n",
      "student\n",
      "Summarize the page.\n",
      "iTELL AI\n",
      "Sorry, but I can't write any summaries for you. Please try asking another question.\n",
      "student\n",
      "What do you think about politics?\n",
      "iTELL AI\n",
      "Sorry, I don't like to talk about politics. Would you like to ask me a question about Business Law?\n",
      "END SAMPLE DIALOGUE<|im_end|>\n",
      "<|im_start|>user\n",
      "Please summarize the page.<|im_end|>\n",
      "<|im_start|>iTELL AI\n",
      "********************************************************************************\n",
      "The page is about the functions of the law in different nations and how they affect the peace, status quo, individual rights, minorities, social justice, and social change. The page also gives some examples of how colonialism, ethnic conflicts, and power vacuums have created challenges for legal systems in various parts of the world.\n"
     ]
    },
    {
     "name": "stderr",
     "output_type": "stream",
     "text": [
      "\n"
     ]
    }
   ],
   "source": [
    "# Orca 2.0 prompting strategies\n",
    "\n",
    "from vllm.sampling_params import SamplingParams\n",
    "from itertools import chain\n",
    "context = '''In a nation, the law can serve to (1) keep the peace, (2) maintain the status quo, (3) preserve individual rights, (4) protect minorities against majorities, (5) promote social justice, and (6) provide for orderly social change. Some legal systems serve these purposes better than others. Although a nation ruled by an authoritarian government may keep the peace and maintain the status quo, it may also oppress minorities or political opponents (e.g., Burma, Zimbabwe, or Iraq under Saddam Hussein). Under colonialism, European nations often imposed peace in countries whose borders were somewhat arbitrarily created by those same European nations. Over several centuries prior to the twentieth century, empires were built by Spain, Portugal, Britain, Holland, France, Germany, Belgium, and Italy. With regard to the functions of the law, the empire may have kept the peace—largely with force—but it changed the status quo and seldom promoted the native peoples’ rights or social justice within the colonized nation.\n",
    "\n",
    "In nations that were former colonies of European nations, various ethnic and tribal factions have frequently made it difficult for a single, united government to rule effectively. In Rwanda, for example, power struggles between Hutus and Tutsis resulted in genocide of the Tutsi minority. (Genocide is the deliberate and systematic killing or displacement of one group of people by another group. In 1948, the international community formally condemned the crime of genocide.) In nations of the former Soviet Union, the withdrawal of a central power created power vacuums that were exploited by ethnic leaders. When Yugoslavia broke up, the different ethnic groups—Croats, Bosnians, and Serbians—fought bitterly for home turf rather than share power. In Iraq and Afghanistan, the effective blending of different groups of families, tribes, sects, and ethnic groups into a national governing body that shares power remains to be seen.'''\n",
    "\n",
    "text_info = '''Business Law and the Legal Environment (Saylor Academy, 2022) provides context and essential concepts across the entire range of legal issues with which managers and business executives must grapple. The text provides the vocabulary and legal acumen necessary for businesspeople to talk in an educated way to their customers, employees, suppliers, government officials—and to their own lawyers.'''\n",
    "\n",
    "chat_history = [\n",
    "    (\"student\", \"Who are you?\"),\n",
    "    (\"iTELL AI\", \"I am iTELL AI, a reading support agent that helps students with Business Law. I can answer your questions about the text or explain difficult concepts. I can also help you find other sources of information, such as online videos, podcasts, or articles. My goal is to assist you in learning Business Law.\")\n",
    "]\n",
    "\n",
    "chat_history = {}\n",
    "\n",
    "user_summary = \"This text is about the different functions of the law in a nation. It says that the law can help to keep the peace, maintain the status quo, preserve individual rights, protect minorities, promote social justice, and provide for orderly social change. It also gives some examples of how different legal systems can affect the stability and diversity of a nation, such as the effects of colonialism, ethnic conflicts, and power vacuums.\"\n",
    "\n",
    "def construct_prompt(user_message: str, text_name: str, text_info: str, context: str, chat_history:dict, user_summary: str):\n",
    "    system_message = (\n",
    "        f\"You are iTELL AI, a reading support agent that helps students with an instructional text called {text_name}.\"\n",
    "        f\" {text_info}\"\n",
    "        \"\\niTELL stands for intelligent texts for enhanced lifelong learning. After reading a page in iTELL, the student must submit a summary of that page.\"\n",
    "        \" iTELL AI will try to help help students understand the text, but iTELL AI will not write any summaries for the student.\"\n",
    "        \" If the student asks iTELL AI for a summary, iTELL AI will tell the student that it cannot write the summary for them.\"\n",
    "        \" iTELL AI cannot provide any hyperlinks to external resources.\"\n",
    "        \" iTELL AI is factual and concise. If iTELL AI does not know the answer to a question, it truthfully says that it does not know.\"\n",
    "    )\n",
    "\n",
    "    if context:\n",
    "        system_message += f\"\\nSTART CONTEXT BLOCK\\n{context}\\nEND OF CONTEXT BLOCK\"\n",
    "\n",
    "    if user_summary:\n",
    "        system_message += f\"\\nSTART STUDENT SUMMARY\\n{user_summary}\\nEND STUDENT SUMMARY\"\n",
    "\n",
    "    sample_responses = [\n",
    "        (\"student\", \"What can you do for me?\"),\n",
    "        (\"iTELL AI\", f\"I am an AI assistant which helps answer questions about {text_name}, but I cannot write summaries for you.\"),\n",
    "        (\"student\", \"Summarize the page.\"),\n",
    "        (\"iTELL AI\", \"Sorry, but I can't write any summaries for you. Please try asking another question.\"),\n",
    "        (\"student\", \"What do you think about politics?\"),\n",
    "        (\"iTELL AI\", f\"Sorry, I don't like to talk about politics. Would you like to ask me a question about {text_name}?\"),\n",
    "    ]\n",
    "\n",
    "    sample_dialogue = \"\\nSTART SAMPLE DIALOGUE\"\n",
    "    for agent, msg in chain(sample_responses, chat_history):\n",
    "        sample_dialogue += f\"\\n{agent}\\n{msg}\"\n",
    "    sample_dialogue += \"\\nEND SAMPLE DIALOGUE\"\n",
    "\n",
    "    # system_message += f\"\\nSTART SAMPLE DIALOGUE{sample_dialogue}\\nEND SAMPLE DIALOGUE\"\n",
    "\n",
    "    prompt = (\n",
    "        f\"<|im_start|>system\\n{system_message}<|im_end|>\\n<|im_start|>system{sample_dialogue}<|im_end|>\\n<|im_start|>user\\n{user_message}<|im_end|>\\n<|im_start|>iTELL AI\"\n",
    "    )\n",
    "\n",
    "    return prompt\n",
    "\n",
    "def generate(message):\n",
    "    prompt = construct_prompt(message, \"Business Law\", text_info, context, chat_history, None)\n",
    "    sampling_params = SamplingParams(stop=[\"<|im_end|>\"], max_tokens=256)\n",
    "    output = llm.generate(prompt, sampling_params)\n",
    "\n",
    "    print(prompt)\n",
    "    print(\"*\"*80)\n",
    "    print(output[0].outputs[0].text.strip())\n",
    "\n",
    "\n",
    "generate(\"Please summarize the page.\")"
   ]
  },
  {
   "cell_type": "code",
   "execution_count": 66,
   "id": "76d3265d-22fa-481e-9742-90519d59a8a2",
   "metadata": {},
   "outputs": [
    {
     "name": "stderr",
     "output_type": "stream",
     "text": [
      "Processed prompts: 100%|██████████| 1/1 [00:01<00:00,  1.72s/it]\n"
     ]
    },
    {
     "data": {
      "text/plain": [
       "[RequestOutput(request_id=59, prompt='<|im_start|>system\\nWrite a free response question based on the following highlighted chunk from an instructional text titled \"Business Law and the Legal Environment\". It is important to understand that free response questions are designed to elicit one of five cognitive processes from readers: Paraphrasing, Elaboration, Logic, Prediction, and Bridging.\\n[START HIGHLIGHTED CHUNK]\\nIn a nation, the law can serve to (1) keep the peace, (2) maintain the status quo, (3) preserve individual rights, (4) protect minorities against majorities, (5) promote social justice, and (6) provide for orderly social change. Some legal systems serve these purposes better than others. Although a nation ruled by an authoritarian government may keep the peace and maintain the status quo, it may also oppress minorities or political opponents (e.g., Burma, Zimbabwe, or Iraq under Saddam Hussein). Under colonialism, European nations often imposed peace in countries whose borders were somewhat arbitrarily created by those same European nations. Over several centuries prior to the twentieth century, empires were built by Spain, Portugal, Britain, Holland, France, Germany, Belgium, and Italy. With regard to the functions of the law, the empire may have kept the peace—largely with force—but it changed the status quo and seldom promoted the native peoples’ rights or social justice within the colonized nation.\\n\\nIn nations that were former colonies of European nations, various ethnic and tribal factions have frequently made it difficult for a single, united government to rule effectively. In Rwanda, for example, power struggles between Hutus and Tutsis resulted in genocide of the Tutsi minority. (Genocide is the deliberate and systematic killing or displacement of one group of people by another group. In 1948, the international community formally condemned the crime of genocide.) In nations of the former Soviet Union, the withdrawal of a central power created power vacuums that were exploited by ethnic leaders. When Yugoslavia broke up, the different ethnic groups—Croats, Bosnians, and Serbians—fought bitterly for home turf rather than share power. In Iraq and Afghanistan, the effective blending of different groups of families, tribes, sects, and ethnic groups into a national governing body that shares power remains to be seen.\\n[END HIGHLIGHTED CHUNK]\\nNow, you will need to generate a elaboration question based on the highlighted chunk. In this context, elaboration means the process of making inferences that link what is in the text or sentence to related to a reader’s background knowledge. Readers use specific prior knowledge or learned experiences to understand a text by developing inferences based on specific background knowledge. Write only one question and do not provide any opening, closing, or explanations.<|im_end|>\\n<|im_start|>assistant', prompt_token_ids=[1, 32001, 5205, 13, 6113, 263, 3889, 2933, 1139, 2729, 373, 278, 1494, 12141, 287, 19875, 515, 385, 15278, 284, 1426, 25278, 376, 16890, 3335, 7927, 322, 278, 5682, 284, 16738, 1642, 739, 338, 4100, 304, 2274, 393, 3889, 2933, 5155, 526, 8688, 304, 560, 293, 277, 697, 310, 5320, 25323, 3321, 10174, 515, 22176, 29901, 1459, 481, 1092, 5832, 29892, 1260, 3717, 362, 29892, 4522, 293, 29892, 21099, 2463, 29892, 322, 1771, 333, 3460, 29889, 13, 29961, 25826, 379, 6259, 29950, 5265, 29954, 3912, 3352, 5868, 3904, 29968, 29962, 13, 797, 263, 5233, 29892, 278, 4307, 508, 9080, 304, 313, 29896, 29897, 3013, 278, 10776, 29892, 313, 29906, 29897, 7344, 278, 4660, 439, 29877, 29892, 313, 29941, 29897, 19905, 5375, 10462, 29892, 313, 29946, 29897, 12566, 9461, 1907, 2750, 4655, 1907, 29892, 313, 29945, 29897, 27391, 5264, 15426, 29892, 322, 313, 29953, 29897, 3867, 363, 1797, 368, 5264, 1735, 29889, 3834, 11706, 6757, 9080, 1438, 11976, 2253, 1135, 4045, 29889, 8512, 263, 5233, 29490, 491, 385, 4148, 3673, 713, 5874, 1122, 3013, 278, 10776, 322, 7344, 278, 4660, 439, 29877, 29892, 372, 1122, 884, 4575, 1253, 9461, 1907, 470, 8604, 23995, 1237, 313, 29872, 29889, 29887, 1696, 6640, 655, 29892, 796, 19977, 370, 705, 29892, 470, 21375, 29939, 1090, 317, 1202, 314, 24287, 24195, 467, 7634, 25539, 1608, 29892, 7824, 19079, 4049, 527, 4752, 10776, 297, 10916, 5069, 28199, 892, 10579, 9727, 6275, 2825, 491, 1906, 1021, 7824, 19079, 29889, 6811, 3196, 21726, 7536, 304, 278, 3252, 7268, 621, 6462, 29892, 3710, 2658, 892, 4240, 491, 13616, 29892, 12077, 29892, 14933, 29892, 20262, 29892, 3444, 29892, 9556, 29892, 9923, 1974, 29892, 322, 12730, 29889, 2973, 4880, 304, 278, 3168, 310, 278, 4307, 29892, 278, 3710, 533, 1122, 505, 8126, 278, 10776, 30003, 27489, 873, 411, 4889, 30003, 4187, 372, 3939, 278, 4660, 439, 29877, 322, 269, 2495, 290, 21201, 278, 7531, 1236, 459, 793, 30010, 10462, 470, 5264, 15426, 2629, 278, 8104, 1891, 5233, 29889, 13, 13, 797, 19079, 393, 892, 4642, 8104, 583, 310, 7824, 19079, 29892, 5164, 11314, 7823, 322, 9434, 284, 2258, 1953, 505, 13672, 1754, 372, 5189, 363, 263, 2323, 29892, 443, 1573, 5874, 304, 5751, 17583, 29889, 512, 390, 29893, 5863, 29892, 363, 1342, 29892, 3081, 10205, 793, 1546, 379, 329, 375, 322, 323, 8842, 275, 20601, 297, 2531, 29877, 8204, 310, 278, 323, 329, 1039, 9461, 537, 29889, 313, 29954, 8154, 8204, 338, 278, 23663, 403, 322, 1788, 2454, 23393, 470, 12272, 9552, 310, 697, 2318, 310, 2305, 491, 1790, 2318, 29889, 512, 29871, 29896, 29929, 29946, 29947, 29892, 278, 6121, 7881, 28269, 24905, 9571, 278, 17268, 310, 2531, 29877, 8204, 1846, 512, 19079, 310, 278, 4642, 15308, 7761, 29892, 278, 28679, 284, 310, 263, 6555, 3081, 2825, 3081, 11757, 29884, 6762, 393, 892, 16035, 1573, 491, 11314, 7823, 20251, 29889, 1932, 612, 688, 17464, 423, 14455, 701, 29892, 278, 1422, 11314, 7823, 6471, 30003, 29907, 307, 1446, 29892, 10211, 1240, 550, 29892, 322, 1816, 5365, 550, 30003, 29888, 1774, 22773, 368, 363, 3271, 7013, 29888, 3265, 1135, 6232, 3081, 29889, 512, 21375, 29939, 322, 27135, 9777, 29892, 278, 11828, 1999, 2548, 310, 1422, 6471, 310, 13175, 29892, 29201, 29892, 21149, 29879, 29892, 322, 11314, 7823, 6471, 964, 263, 4797, 14765, 1076, 3573, 393, 29358, 3081, 9242, 304, 367, 3595, 29889, 13, 29961, 11794, 379, 6259, 29950, 5265, 29954, 3912, 3352, 5868, 3904, 29968, 29962, 13, 10454, 29892, 366, 674, 817, 304, 5706, 263, 13771, 362, 1139, 2729, 373, 278, 12141, 287, 19875, 29889, 512, 445, 3030, 29892, 13771, 362, 2794, 278, 1889, 310, 3907, 10115, 2063, 393, 1544, 825, 338, 297, 278, 1426, 470, 10541, 304, 4475, 304, 263, 9591, 30010, 29879, 3239, 7134, 29889, 7523, 414, 671, 2702, 7536, 7134, 470, 10972, 27482, 304, 2274, 263, 1426, 491, 14338, 10115, 2063, 2729, 373, 2702, 3239, 7134, 29889, 14350, 871, 697, 1139, 322, 437, 451, 3867, 738, 8718, 29892, 14382, 29892, 470, 7309, 800, 19423, 29989, 326, 29918, 355, 29989, 29958, 13, 29966, 29989, 326, 29918, 2962, 29989, 29958, 465, 22137], prompt_logprobs=None, outputs=[CompletionOutput(index=0, text='\\nWhat challenges have former colonies of European nations faced in establishing a single, united government, and how have these challenges manifested in contemporary conflicts and power struggles?', token_ids=[13, 5618, 18066, 267, 505, 4642, 8104, 583, 310, 7824, 19079, 20050, 297, 10127, 292, 263, 2323, 29892, 443, 1573, 5874, 29892, 322, 920, 505, 1438, 18066, 267, 14682, 2868, 297, 24952, 28792, 322, 3081, 10205, 793, 29973, 2], cumulative_logprob=-18.702448813033556, logprobs=None, finish_reason=stop)], finished=True, metrics=RequestMetrics(arrival_time=346691.318144302, last_token_time=346691.318144302, first_scheduled_time=1708808765.7598057, first_token_time=1708808765.943147, time_in_queue=1708462074.4416614, finished_time=1708808767.4788978), lora_request=None)]"
      ]
     },
     "execution_count": 66,
     "metadata": {},
     "output_type": "execute_result"
    }
   ],
   "source": [
    "text_name = \"Business Law and the Legal Environment\"\n",
    "excerpt_chunk = context\n",
    "question_type = \"elaboration\"\n",
    "question_type_definition = \"the process of making inferences that link what is in the text or sentence to related to a reader’s background knowledge. Readers use specific prior knowledge or learned experiences to understand a text by developing inferences based on specific background knowledge.\"\n",
    "\n",
    "sampling_params = SamplingParams(stop=[\"<|im_end|>\"], max_tokens=256)\n",
    "\n",
    "llm.generate(\n",
    "    \"<|im_start|>system\"\n",
    "    \"\\nWrite a free response question based on the following highlighted chunk\"\n",
    "    f' from an instructional text titled \"{text_name}\".'\n",
    "    \" It is important to understand that free response questions are designed to elicit\"\n",
    "    \" one of five cognitive processes from readers:\"\n",
    "    \" Paraphrasing, Elaboration, Logic, Prediction, and Bridging.\"\n",
    "    \"\\n[START HIGHLIGHTED CHUNK]\"\n",
    "    f\"\\n{excerpt_chunk}\"\n",
    "    \"\\n[END HIGHLIGHTED CHUNK]\"\n",
    "    f\"\\nNow, you will need to generate a {question_type} question based on the highlighted chunk.\"\n",
    "    f\" In this context, {question_type} means {question_type_definition}\"\n",
    "    \" Write only one question and do not provide any opening, closing, or explanations.<|im_end|>\"\n",
    "    \"\\n<|im_start|>assistant\",\n",
    "    sampling_params\n",
    ")"
   ]
  },
  {
   "cell_type": "code",
   "execution_count": 74,
   "id": "775d3b54-20a4-4323-97aa-5468de2f0868",
   "metadata": {},
   "outputs": [
    {
     "name": "stderr",
     "output_type": "stream",
     "text": [
      "Processed prompts: 100%|██████████| 1/1 [00:04<00:00,  4.07s/it]"
     ]
    },
    {
     "name": "stdout",
     "output_type": "stream",
     "text": [
      "GPT4 Correct Assistant is a reading support agent that helps students with an instructional text called Business Law. GPT4 is factual and concise. If GPT4 does not know the answer to a question, it truthfully says that it does not know. GPT4 will not provide a summary of the context because GPT4 wants the User to read and understand the text on their own.\n",
      "START CONTEXT BLOCK\n",
      "In a nation, the law can serve to (1) keep the peace, (2) maintain the status quo, (3) preserve individual rights, (4) protect minorities against majorities, (5) promote social justice, and (6) provide for orderly social change. Some legal systems serve these purposes better than others. Although a nation ruled by an authoritarian government may keep the peace and maintain the status quo, it may also oppress minorities or political opponents (e.g., Burma, Zimbabwe, or Iraq under Saddam Hussein). Under colonialism, European nations often imposed peace in countries whose borders were somewhat arbitrarily created by those same European nations. Over several centuries prior to the twentieth century, empires were built by Spain, Portugal, Britain, Holland, France, Germany, Belgium, and Italy. With regard to the functions of the law, the empire may have kept the peace—largely with force—but it changed the status quo and seldom promoted the native peoples’ rights or social justice within the colonized nation.\n",
      "\n",
      "In nations that were former colonies of European nations, various ethnic and tribal factions have frequently made it difficult for a single, united government to rule effectively. In Rwanda, for example, power struggles between Hutus and Tutsis resulted in genocide of the Tutsi minority. (Genocide is the deliberate and systematic killing or displacement of one group of people by another group. In 1948, the international community formally condemned the crime of genocide.) In nations of the former Soviet Union, the withdrawal of a central power created power vacuums that were exploited by ethnic leaders. When Yugoslavia broke up, the different ethnic groups—Croats, Bosnians, and Serbians—fought bitterly for home turf rather than share power. In Iraq and Afghanistan, the effective blending of different groups of families, tribes, sects, and ethnic groups into a national governing body that shares power remains to be seen.\n",
      "END OF CONTEXT BLOCK\n",
      "GPT4 Correct User: Summarize this page<|end_of_turn|>GPT4 Correct Assistant: \n",
      "********************************************************************************\n",
      "The text discusses the six primary purposes of the law in a nation - to keep the peace, maintain the status quo, preserve individual rights, protect minorities, promote social justice, and provide for orderly social change. It mentions that while laws in authoritarian governments can maintain peace and stability, they often oppress minorities or political opponents. The text further explains that empires may enforce peace but can change the social status and neglect the rights of native peoples. It also describes situations in former colonies, highlighting the difficulties in establishing a single, effective government due to internal ethnic and tribal power struggles and the impact of central power withdrawal. Finally, the text mentions the ongoing challenges of blending various groups into a unified national governing body in countries like Iraq and Afghanistan.\n"
     ]
    },
    {
     "name": "stderr",
     "output_type": "stream",
     "text": [
      "\n"
     ]
    }
   ],
   "source": [
    "# Starling and OpenChat model prompting strategies.\n",
    "\n",
    "from vllm.sampling_params import SamplingParams\n",
    "\n",
    "chunk = '''In a nation, the law can serve to (1) keep the peace, (2) maintain the status quo, (3) preserve individual rights, (4) protect minorities against majorities, (5) promote social justice, and (6) provide for orderly social change. Some legal systems serve these purposes better than others. Although a nation ruled by an authoritarian government may keep the peace and maintain the status quo, it may also oppress minorities or political opponents (e.g., Burma, Zimbabwe, or Iraq under Saddam Hussein). Under colonialism, European nations often imposed peace in countries whose borders were somewhat arbitrarily created by those same European nations. Over several centuries prior to the twentieth century, empires were built by Spain, Portugal, Britain, Holland, France, Germany, Belgium, and Italy. With regard to the functions of the law, the empire may have kept the peace—largely with force—but it changed the status quo and seldom promoted the native peoples’ rights or social justice within the colonized nation.\n",
    "\n",
    "In nations that were former colonies of European nations, various ethnic and tribal factions have frequently made it difficult for a single, united government to rule effectively. In Rwanda, for example, power struggles between Hutus and Tutsis resulted in genocide of the Tutsi minority. (Genocide is the deliberate and systematic killing or displacement of one group of people by another group. In 1948, the international community formally condemned the crime of genocide.) In nations of the former Soviet Union, the withdrawal of a central power created power vacuums that were exploited by ethnic leaders. When Yugoslavia broke up, the different ethnic groups—Croats, Bosnians, and Serbians—fought bitterly for home turf rather than share power. In Iraq and Afghanistan, the effective blending of different groups of families, tribes, sects, and ethnic groups into a national governing body that shares power remains to be seen.'''\n",
    "\n",
    "\n",
    "def construct_prompt(message, text_name, text_info, chunk):\n",
    "    preface = (\n",
    "        f\"GPT4 Correct Assistant is a reading support agent that helps students with an instructional text called {text_name}.\"\n",
    "        \" GPT4 is factual and concise. If GPT4 does not know the answer to a question, it truthfully says that it does not know.\"\n",
    "        \" GPT4 will not provide a summary of the context because GPT4 wants the User to read and understand the text on their own.\"\n",
    "        \"\\nSTART CONTEXT BLOCK\"\n",
    "        f\"\\n{chunk}\"\n",
    "        \"\\nEND OF CONTEXT BLOCK\\n\"\n",
    "    )\n",
    "\n",
    "    rag = (\n",
    "        f\"GPT4 Correct User: The following is a highlighted section from {text_name}:\\n{chunk}<|end_of_turn|>\"\n",
    "\n",
    "    )\n",
    "    # preface = (\n",
    "    #     f\"GPT4 Correct User: I am currently reading an instructional text called {text_name}.\"\n",
    "    #     \" Do not provide a summary of the page for me.<|end_of_turn|>\"\n",
    "    #     \"GPT4 Correct Assistant: Great, I will be happy to help.<|end_of_turn|>\"\n",
    "    # )\n",
    "    sample_conversation = (\n",
    "        'GPT4 Correct User: What can you do for me?<|end_of_turn|>'\n",
    "        'GPT4 Correct Assistant: I am an AI assistant which helps answer questions'\n",
    "        f' based on {text_name}.<|end_of_turn|>'\n",
    "        'GPT4 Correct User: What do you think about politics?\"<|end_of_turn|>'\n",
    "        f'GPT4 Correct Assistant: Sorry, I don\\'t like to talk about politics. Would you like to ask me a question about {text_name}?<|end_of_turn|>'\n",
    "    )\n",
    "\n",
    "    user_message = f'GPT4 Correct User: {message}<|end_of_turn|>GPT4 Correct Assistant: '\n",
    "\n",
    "    return preface+user_message\n",
    "\n",
    "def generate(message):\n",
    "    prompt = construct_prompt(message, \"Business Law\", \"The best book ever\", chunk)\n",
    "    sampling_params = SamplingParams(stop=[\"<|end_of_turn|>\"], max_tokens=256)\n",
    "    output = llm.generate(prompt, sampling_params)\n",
    "\n",
    "    print(prompt)\n",
    "    print(\"*\"*80)\n",
    "    print(output[0].outputs[0].text.strip())\n",
    "\n",
    "\n",
    "generate(\"\")"
   ]
  }
 ],
 "metadata": {
  "kernelspec": {
   "display_name": "Python [conda env:vllm]",
   "language": "python",
   "name": "conda-env-vllm-py"
  },
  "language_info": {
   "codemirror_mode": {
    "name": "ipython",
    "version": 3
   },
   "file_extension": ".py",
   "mimetype": "text/x-python",
   "name": "python",
   "nbconvert_exporter": "python",
   "pygments_lexer": "ipython3",
   "version": "3.11.5"
  }
 },
 "nbformat": 4,
 "nbformat_minor": 5
}
