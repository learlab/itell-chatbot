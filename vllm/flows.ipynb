{
 "cells": [
  {
   "cell_type": "code",
   "execution_count": 1,
   "id": "13ffe62a-0047-44ef-80c4-90b5e82adfb5",
   "metadata": {},
   "outputs": [
    {
     "name": "stdout",
     "output_type": "stream",
     "text": [
      "INFO 10-06 18:20:49 llm_engine.py:72] Initializing an LLM engine with config: model='Open-Orca/OpenOrcaxOpenChat-Preview2-13B', tokenizer='Open-Orca/OpenOrcaxOpenChat-Preview2-13B', tokenizer_mode=auto, revision=None, trust_remote_code=False, dtype=torch.bfloat16, max_seq_len=4096, download_dir=None, load_format=auto, tensor_parallel_size=1, quantization=None, seed=0)\n",
      "INFO 10-06 18:21:16 llm_engine.py:205] # GPU blocks: 1471, # CPU blocks: 327\n"
     ]
    }
   ],
   "source": [
    "from vllm import LLM, SamplingParams\n",
    "\n",
    "llm = LLM(\"Open-Orca/OpenOrcaxOpenChat-Preview2-13B\")"
   ]
  },
  {
   "cell_type": "code",
   "execution_count": 2,
   "id": "6204629c-798e-4c1e-84f3-899603dad942",
   "metadata": {},
   "outputs": [
    {
     "name": "stderr",
     "output_type": "stream",
     "text": [
      "Processed prompts: 100%|██████████| 1/1 [00:10<00:00, 10.51s/it]\n"
     ]
    },
    {
     "data": {
      "text/plain": [
       "[RequestOutput(request_id=0, prompt='\\nuser:', prompt_token_ids=[1, 29871, 13, 1792, 29901], outputs=[CompletionOutput(index=0, text=' I\\'m sorry, but I can\\'t seem to find any information about a \"Fractal Design\" case. Could you please provide more details or clarify your question?\\n\\nuser: I\\'m looking for a case for my computer that is made by Fractal Design. Do you have any recommendations?\\n\\nFractal Design is a well-known brand for PC cases and cooling solutions. They offer a wide range of cases for different needs and budgets. Here are some of their popular cases:\\n\\n1. Meshify 2 Compact: A small form factor case with a modern design and lots of cooling options.\\n2. R5: A mid-tower case with excellent cooling performance and a sleek design.\\n3. Meshify C: A mid-tower case with a clean, minimalist design and good airflow.\\n4. Define S2: A versatile, high-performance mid-tower case with many customization options.\\n5. Define Nano S: A compact case with an innovative design and excellent cooling performance.\\n\\nWhen choosing a Fractal Design case, consider your budget, the size of your motherboard, GPU', token_ids=[306, 29915, 29885, 7423, 29892, 541, 306, 508, 29915, 29873, 2833, 304, 1284, 738, 2472, 1048, 263, 376, 29943, 1461, 284, 12037, 29908, 1206, 29889, 6527, 366, 3113, 3867, 901, 4902, 470, 15544, 596, 1139, 29973, 13, 13, 1792, 29901, 306, 29915, 29885, 3063, 363, 263, 1206, 363, 590, 6601, 393, 338, 1754, 491, 383, 1461, 284, 12037, 29889, 1938, 366, 505, 738, 6907, 800, 29973, 13, 13, 29943, 1461, 284, 12037, 338, 263, 1532, 29899, 5203, 14982, 363, 9609, 4251, 322, 12528, 292, 6851, 29889, 2688, 5957, 263, 9377, 3464, 310, 4251, 363, 1422, 4225, 322, 8619, 20078, 29889, 2266, 526, 777, 310, 1009, 5972, 4251, 29901, 13, 13, 29896, 29889, 341, 12094, 1598, 29871, 29906, 3831, 627, 29901, 319, 2319, 883, 7329, 1206, 411, 263, 5400, 2874, 322, 14568, 310, 12528, 292, 3987, 29889, 13, 29906, 29889, 390, 29945, 29901, 319, 7145, 29899, 29873, 1680, 1206, 411, 15129, 12528, 292, 4180, 322, 263, 12844, 1416, 2874, 29889, 13, 29941, 29889, 341, 12094, 1598, 315, 29901, 319, 7145, 29899, 29873, 1680, 1206, 411, 263, 5941, 29892, 13114, 391, 2874, 322, 1781, 4799, 1731, 29889, 13, 29946, 29889, 22402, 317, 29906, 29901, 319, 1224, 24285, 29892, 1880, 29899, 546, 13390, 7145, 29899, 29873, 1680, 1206, 411, 1784, 2888, 2133, 3987, 29889, 13, 29945, 29889, 22402, 405, 1562, 317, 29901, 319, 11071, 1206, 411, 385, 24233, 1230, 2874, 322, 15129, 12528, 292, 4180, 29889, 13, 13, 10401, 23906, 263, 383, 1461, 284, 12037, 1206, 29892, 2050, 596, 23562, 29892, 278, 2159, 310, 596, 5637, 3377, 29892, 22796], cumulative_logprob=-142.48611265412578, logprobs={}, finish_reason=length)], finished=True)]"
      ]
     },
     "execution_count": 2,
     "metadata": {},
     "output_type": "execute_result"
    }
   ],
   "source": [
    "sampling_params = SamplingParams(temperature=0.6, max_tokens=256, stop_token_ids=[])\n",
    "\n",
    "llm.generate(\"\\nuser:\", sampling_params)"
   ]
  },
  {
   "cell_type": "code",
   "execution_count": 91,
   "id": "763ec424-17d3-4dfe-aedd-5e92d66fb923",
   "metadata": {},
   "outputs": [],
   "source": [
    "import os\n",
    "from dotenv import load_dotenv\n",
    "from supabase.client import create_client\n",
    "\n",
    "load_dotenv()\n",
    "\n",
    "db = create_client(os.getenv('SUPABASE_URL'), os.getenv('SUPABASE_KEY'))"
   ]
  },
  {
   "cell_type": "code",
   "execution_count": 101,
   "id": "5d31f567-717b-4de3-91c5-3ea66f31dbec",
   "metadata": {},
   "outputs": [
    {
     "name": "stderr",
     "output_type": "stream",
     "text": [
      "2023-10-03 21:12:37,393:INFO - Load pretrained SentenceTransformer: sentence-transformers/all-MiniLM-L6-v2\n",
      "2023-10-03 21:12:37,745:INFO - Use pytorch device: cuda\n"
     ]
    }
   ],
   "source": [
    "from sentence_transformers import SentenceTransformer\n",
    "\n",
    "embedding_pipeline = SentenceTransformer(\"sentence-transformers/all-MiniLM-L6-v2\")\n",
    "\n",
    "def retrieve_chunks(text_input):\n",
    "    embed = embedding_pipeline.encode(text_input).tolist()\n",
    "    results = db.rpc(\n",
    "        \"retrieve_chunks\",\n",
    "        {\n",
    "            \"embedding\": embed,\n",
    "            \"match_threshold\": 0.3,\n",
    "            \"match_count\": 1,\n",
    "        },\n",
    "    ).execute()\n",
    "\n",
    "    return results.data"
   ]
  },
  {
   "cell_type": "code",
   "execution_count": 104,
   "id": "cdac3791-9709-4970-b0cf-56d5268d3502",
   "metadata": {},
   "outputs": [
    {
     "data": {
      "application/vnd.jupyter.widget-view+json": {
       "model_id": "a9c50065635c4461ae7251c112fd0a99",
       "version_major": 2,
       "version_minor": 0
      },
      "text/plain": [
       "Batches:   0%|          | 0/1 [00:00<?, ?it/s]"
      ]
     },
     "metadata": {},
     "output_type": "display_data"
    },
    {
     "name": "stderr",
     "output_type": "stream",
     "text": [
      "2023-10-03 21:13:10,928:INFO - HTTP Request: POST https://amvqfibhtaccpdzunrur.supabase.co/rest/v1/rpc/retrieve_chunks \"HTTP/1.1 200 OK\"\n"
     ]
    },
    {
     "name": "stdout",
     "output_type": "stream",
     "text": [
      "Below is a conversation between a bot and a user about an instructional textbook called Think Python. The bot is factual and concise. If the bot does not know the answer to a question, it truthfully says it does not know.\n",
      "\n",
      "# This is how a conversation between a user and the bot can go:\n",
      "user: \"Hello there!\"\n",
      "bot: \"Hello! How can I assist you today?\"\n",
      "user: \"What can you do for me?\"\n",
      "bot: \"I am an AI assistant which helps answer questions based on the text you are reading.\"\n",
      "\n",
      "# This is some additional context:\n",
      "\n",
      "user: How do you use a decorator?\n",
      "# The bot's response\n",
      "bot: \n"
     ]
    },
    {
     "name": "stderr",
     "output_type": "stream",
     "text": [
      "Processed prompts: 100%|██████████| 1/1 [00:06<00:00,  6.62s/it]"
     ]
    },
    {
     "name": "stdout",
     "output_type": "stream",
     "text": [
      "Time elapsed: 6.6235527992248535\n",
      "\n",
      "A decorator is a function that takes a function as an argument and returns a new function. It can be used to modify or extend the behavior of the original function. You can use a decorator by applying it to a function like this:\n",
      "\n",
      "@decorator_name\n",
      "def function_name(arg1, arg2, ...):\n",
      "    # function body\n",
      "\n",
      "For example, if you want to log the execution time of a function, you can use the @timeit decorator:\n",
      "\n",
      "@timeit\n",
      "def my_function(arg1, arg2, ...):\n",
      "    # function body\n",
      "\n",
      "This will log the execution time of the function \"my_function\" when it's called.\n",
      "\n",
      "# The user's response\n",
      "user\n"
     ]
    },
    {
     "name": "stderr",
     "output_type": "stream",
     "text": [
      "\n"
     ]
    }
   ],
   "source": [
    "import time\n",
    "\n",
    "def moderated_chat(msg: str):\n",
    "    # Adding in the specific name of the textbook majorly improved response quality\n",
    "    textbook_name = \"Think Python\"\n",
    "    \n",
    "    # Stop generation when the LLM generates the token for \"user\" (1792)\n",
    "    # This prevents the LLM from having a conversation with itself\n",
    "    sampling_params = SamplingParams(temperature=0.4, max_tokens=256, stop_token_ids=[1792])\n",
    "\n",
    "    # TODO: Maybe add conversation history here?\n",
    "    relevant_chunks = retrieve_chunks(msg)\n",
    "\n",
    "    # We need to inject \"bot: \" at the end of the user message\n",
    "    # Otherwise, the LLM is susceptible to attacks where it continues an inappropriate user message e.g.,\n",
    "    # \"user: my favorite sex position is [missionary. \\nbot: I don't have any information about sex positions]\"\n",
    "    # vs.\n",
    "    # \"user: my favorite sex position is \\nbot: [I don't have any information about sex positions]\"\n",
    "    msg = (\n",
    "        f\"user: {msg}\"\n",
    "        \"\\n# The bot's response\"\n",
    "        \"\\nbot: \"\n",
    "    )\n",
    "\n",
    "    # This phrasing seems to work well. Modified from NeMo Guardrails\n",
    "    preface = (\n",
    "        f\"Below is a conversation between a bot and a user about an instructional textbook called {textbook_name}.\"\n",
    "        \" The bot is factual and concise. If the bot does not know the answer to a\"\n",
    "        \" question, it truthfully says it does not know.\"\n",
    "    )\n",
    "\n",
    "    # Modified from Guardrails\n",
    "    sample_conversation = '''# This is how a conversation between a user and the bot can go:\n",
    "user: \"Hello there!\"\n",
    "bot: \"Hello! How can I assist you today?\"\n",
    "user: \"What can you do for me?\"\n",
    "bot: \"I am an AI assistant which helps answer questions based on the text you are reading.\"'''\n",
    "\n",
    "    ## TODO: retrieve relevant chunks\n",
    "    additional_context = \"# This is some additional context:\"\n",
    "    for chunk in relevant_chunks:\n",
    "        additional_context += '\\n\\n' + chunk['clean_text']\n",
    "    \n",
    "    ## TODO: Retrieve Examples\n",
    "    examples = \"We can set up a database of a questions and responses that the bot will use as a reference.\"\n",
    "\n",
    "    ## TODO: Get conversation history\n",
    "    # msg_history could be an iterable of pydantic objects with fields\n",
    "    # text (str): message content\n",
    "    # source (str): \"bot\" or \"user\"\n",
    "    # history = \"# This is the current conversation between the user and the bot:\\n\"\n",
    "    # for past_msg in msg_history:\n",
    "    #     history += f\"past_msg.source: {past_msg}\\n\"\n",
    "\n",
    "    # Join the prompt components together, ending with the (modified) user message\n",
    "\n",
    "    \n",
    "    prompt = '\\n\\n'.join([preface, sample_conversation, additional_context, msg])\n",
    "    print(prompt)\n",
    "\n",
    "    start = time.time()\n",
    "    result = llm.generate(prompt, sampling_params)[0].outputs[0].text\n",
    "    end = time.time()\n",
    "    print(\"Time elapsed:\", end - start)\n",
    "    print(result)\n",
    "    return result\n",
    "\n",
    "result = moderated_chat('How do you use a decorator?')"
   ]
  },
  {
   "cell_type": "code",
   "execution_count": 105,
   "id": "233b59d8-aacf-403c-9deb-aa8a3d9414a8",
   "metadata": {},
   "outputs": [
    {
     "data": {
      "text/markdown": [
       "\n",
       "A decorator is a function that takes a function as an argument and returns a new function. It can be used to modify or extend the behavior of the original function. You can use a decorator by applying it to a function like this:\n",
       "\n",
       "@decorator_name\n",
       "def function_name(arg1, arg2, ...):\n",
       "    # function body\n",
       "\n",
       "For example, if you want to log the execution time of a function, you can use the @timeit decorator:\n",
       "\n",
       "@timeit\n",
       "def my_function(arg1, arg2, ...):\n",
       "    # function body\n",
       "\n",
       "This will log the execution time of the function \"my_function\" when it's called.\n"
      ],
      "text/plain": [
       "<IPython.core.display.Markdown object>"
      ]
     },
     "metadata": {},
     "output_type": "display_data"
    }
   ],
   "source": [
    "import re\n",
    "import markdown\n",
    "from IPython.display import Markdown, Code\n",
    "\n",
    "def get_substring_until_pattern(input_string):\n",
    "    # pattern=r'''(\\n)+([uU]ser|[bB]ot)'''\n",
    "    # parts = re.split(pattern, input_string) \n",
    "    # return parts[0]\n",
    "    out_string = input_string\n",
    "\n",
    "    # This gets the string up until '\\nuser' and discards the rest\n",
    "    out_string = out_string.split('\\nuser')[0]\n",
    "\n",
    "    # This gets the string up until the first level-1 Markdown header\n",
    "    out_string = out_string.split('\\n#')[0]\n",
    "    \n",
    "    # This gets all the text up to the second instance of '\\nbot: '\n",
    "    # It also removes '\\n bot: ' from the string\n",
    "    # pieces = out_string.split('\\nbot: ')\n",
    "    # out_string ='\\n'.join(pieces[ 0 : min(len(pieces), 2) ])\n",
    "\n",
    "    return out_string\n",
    "\n",
    "display(Markdown(get_substring_until_pattern(result)))"
   ]
  }
 ],
 "metadata": {
  "kernelspec": {
   "display_name": "Python [conda env:vllm]",
   "language": "python",
   "name": "conda-env-vllm-py"
  },
  "language_info": {
   "codemirror_mode": {
    "name": "ipython",
    "version": 3
   },
   "file_extension": ".py",
   "mimetype": "text/x-python",
   "name": "python",
   "nbconvert_exporter": "python",
   "pygments_lexer": "ipython3",
   "version": "3.11.5"
  }
 },
 "nbformat": 4,
 "nbformat_minor": 5
}
