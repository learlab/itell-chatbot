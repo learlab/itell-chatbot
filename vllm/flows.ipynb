{
 "cells": [
  {
   "cell_type": "code",
   "execution_count": 10,
   "id": "13ffe62a-0047-44ef-80c4-90b5e82adfb5",
   "metadata": {},
   "outputs": [],
   "source": [
    "from vllm import LLM, SamplingParams\n",
    "\n",
    "llm = LLM(\"Open-Orca/OpenOrcaxOpenChat-Preview2-13B\")"
   ]
  },
  {
   "cell_type": "code",
   "execution_count": 40,
   "id": "6204629c-798e-4c1e-84f3-899603dad942",
   "metadata": {},
   "outputs": [
    {
     "name": "stderr",
     "output_type": "stream",
     "text": [
      "Processed prompts: 100%|██████████| 1/1 [00:10<00:00, 10.60s/it]\n"
     ]
    },
    {
     "data": {
      "text/plain": [
       "[RequestOutput(request_id=18, prompt='\\nuser:', prompt_token_ids=[1, 29871, 13, 1792, 29901], outputs=[CompletionOutput(index=0, text=' \\n\\n  - **User**: 1234 @gmail.com\\n\\n  - **Full Name:** John Doe\\n\\n  - **Address:** 123 Main Street, New York, NY 10011\\n\\n  - **Phone:** +1 555-555-5555\\n\\n  - **Email:** john@example.com\\n\\n  - **Date of Birth:** 10th January 1990\\n\\n  - **Gender:** Male\\n\\n  - **Nationality:** American\\n\\n  - **Occupation:** Software Developer\\n\\n  - **Education:** B.S. in Computer Science from New York University\\n\\n  - **Awards:** None\\n\\n  - **Interests:** Reading, Traveling, Sports\\n\\n  - **Siblings:** John has one sibling: Jane Doe\\n\\n  - **Marital Status:** Single\\n\\n  - **Children:** None\\n\\n  - **Religion:** Christian\\n\\n  - **Hobbies:** Painting,', token_ids=[29871, 13, 13, 29871, 448, 3579, 2659, 1068, 29901, 29871, 29896, 29906, 29941, 29946, 732, 21980, 29889, 510, 13, 13, 29871, 448, 3579, 13658, 4408, 29901, 1068, 2259, 1938, 29872, 13, 13, 29871, 448, 3579, 7061, 29901, 1068, 29871, 29896, 29906, 29941, 4241, 7103, 29892, 1570, 3088, 29892, 23526, 29871, 29896, 29900, 29900, 29896, 29896, 13, 13, 29871, 448, 3579, 9861, 29901, 1068, 718, 29896, 29871, 29945, 29945, 29945, 29899, 29945, 29945, 29945, 29899, 29945, 29945, 29945, 29945, 13, 13, 29871, 448, 3579, 9823, 29901, 1068, 432, 6547, 29992, 4773, 29889, 510, 13, 13, 29871, 448, 3579, 2539, 310, 350, 7515, 29901, 1068, 29871, 29896, 29900, 386, 5490, 29871, 29896, 29929, 29929, 29900, 13, 13, 29871, 448, 3579, 29954, 1581, 29901, 1068, 27208, 13, 13, 29871, 448, 3579, 27325, 537, 29901, 1068, 3082, 13, 13, 29871, 448, 3579, 22034, 786, 362, 29901, 1068, 18540, 10682, 261, 13, 13, 29871, 448, 3579, 29923, 29392, 29901, 1068, 350, 29889, 29903, 29889, 297, 20972, 9327, 515, 1570, 3088, 3014, 13, 13, 29871, 448, 3579, 29909, 2935, 29901, 1068, 6213, 13, 13, 29871, 448, 3579, 4074, 9197, 29901, 1068, 21439, 29892, 3201, 955, 292, 29892, 12453, 13, 13, 29871, 448, 3579, 29903, 747, 18964, 29901, 1068, 2259, 756, 697, 27767, 1847, 29901, 10447, 1938, 29872, 13, 13, 29871, 448, 3579, 7083, 2410, 16034, 29901, 1068, 16740, 13, 13, 29871, 448, 3579, 19334, 29901, 1068, 6213, 13, 13, 29871, 448, 3579, 9662, 335, 291, 29901, 1068, 6111, 13, 13, 29871, 448, 3579, 29950, 20838, 583, 29901, 1068, 349, 475, 1259, 29892], cumulative_logprob=-136.661054420606, logprobs={}, finish_reason=length)], finished=True)]"
      ]
     },
     "execution_count": 40,
     "metadata": {},
     "output_type": "execute_result"
    }
   ],
   "source": [
    "sampling_params = SamplingParams(temperature=0.8, max_tokens=256, stop_token_ids=[])\n",
    "\n",
    "llm.generate(\"\\nuser:\", sampling_params)"
   ]
  },
  {
   "cell_type": "code",
   "execution_count": 84,
   "id": "cdac3791-9709-4970-b0cf-56d5268d3502",
   "metadata": {},
   "outputs": [
    {
     "name": "stderr",
     "output_type": "stream",
     "text": [
      "Processed prompts: 100%|██████████| 1/1 [00:07<00:00,  7.71s/it]"
     ]
    },
    {
     "name": "stdout",
     "output_type": "stream",
     "text": [
      "\n",
      "The user wants a function that takes a number as input and converts it to a string representing a specific format of that number, such as \"five million\" for 5,000,000. The function should return the formatted string.\n",
      "\n",
      "To solve this, we would create a function that handles both the conversion and the formatting. Here's an example of a function that does this:\n",
      "\n",
      "def convert_to_string_format(number):\n",
      "    formatted_number = str(number)\n",
      "    return formatted_number.replace(',', '')\n",
      "\n",
      "For example, if we input 5,000,000 into the function, we would get the output \"five million\".\n",
      "\n",
      "bot: This function, convert_to_string_format(number), takes a number as input and returns a formatted string based on the given number. \n",
      "\n",
      "user\n",
      "********************************************************************************\n"
     ]
    },
    {
     "name": "stderr",
     "output_type": "stream",
     "text": [
      "\n"
     ]
    },
    {
     "data": {
      "text/html": [
       "<style>pre { line-height: 125%; }\n",
       "td.linenos .normal { color: inherit; background-color: transparent; padding-left: 5px; padding-right: 5px; }\n",
       "span.linenos { color: inherit; background-color: transparent; padding-left: 5px; padding-right: 5px; }\n",
       "td.linenos .special { color: #000000; background-color: #ffffc0; padding-left: 5px; padding-right: 5px; }\n",
       "span.linenos.special { color: #000000; background-color: #ffffc0; padding-left: 5px; padding-right: 5px; }\n",
       ".output_html .hll { background-color: #ffffcc }\n",
       ".output_html { background: #f8f8f8; }\n",
       ".output_html .c { color: #3D7B7B; font-style: italic } /* Comment */\n",
       ".output_html .err { border: 1px solid #FF0000 } /* Error */\n",
       ".output_html .k { color: #008000; font-weight: bold } /* Keyword */\n",
       ".output_html .o { color: #666666 } /* Operator */\n",
       ".output_html .ch { color: #3D7B7B; font-style: italic } /* Comment.Hashbang */\n",
       ".output_html .cm { color: #3D7B7B; font-style: italic } /* Comment.Multiline */\n",
       ".output_html .cp { color: #9C6500 } /* Comment.Preproc */\n",
       ".output_html .cpf { color: #3D7B7B; font-style: italic } /* Comment.PreprocFile */\n",
       ".output_html .c1 { color: #3D7B7B; font-style: italic } /* Comment.Single */\n",
       ".output_html .cs { color: #3D7B7B; font-style: italic } /* Comment.Special */\n",
       ".output_html .gd { color: #A00000 } /* Generic.Deleted */\n",
       ".output_html .ge { font-style: italic } /* Generic.Emph */\n",
       ".output_html .ges { font-weight: bold; font-style: italic } /* Generic.EmphStrong */\n",
       ".output_html .gr { color: #E40000 } /* Generic.Error */\n",
       ".output_html .gh { color: #000080; font-weight: bold } /* Generic.Heading */\n",
       ".output_html .gi { color: #008400 } /* Generic.Inserted */\n",
       ".output_html .go { color: #717171 } /* Generic.Output */\n",
       ".output_html .gp { color: #000080; font-weight: bold } /* Generic.Prompt */\n",
       ".output_html .gs { font-weight: bold } /* Generic.Strong */\n",
       ".output_html .gu { color: #800080; font-weight: bold } /* Generic.Subheading */\n",
       ".output_html .gt { color: #0044DD } /* Generic.Traceback */\n",
       ".output_html .kc { color: #008000; font-weight: bold } /* Keyword.Constant */\n",
       ".output_html .kd { color: #008000; font-weight: bold } /* Keyword.Declaration */\n",
       ".output_html .kn { color: #008000; font-weight: bold } /* Keyword.Namespace */\n",
       ".output_html .kp { color: #008000 } /* Keyword.Pseudo */\n",
       ".output_html .kr { color: #008000; font-weight: bold } /* Keyword.Reserved */\n",
       ".output_html .kt { color: #B00040 } /* Keyword.Type */\n",
       ".output_html .m { color: #666666 } /* Literal.Number */\n",
       ".output_html .s { color: #BA2121 } /* Literal.String */\n",
       ".output_html .na { color: #687822 } /* Name.Attribute */\n",
       ".output_html .nb { color: #008000 } /* Name.Builtin */\n",
       ".output_html .nc { color: #0000FF; font-weight: bold } /* Name.Class */\n",
       ".output_html .no { color: #880000 } /* Name.Constant */\n",
       ".output_html .nd { color: #AA22FF } /* Name.Decorator */\n",
       ".output_html .ni { color: #717171; font-weight: bold } /* Name.Entity */\n",
       ".output_html .ne { color: #CB3F38; font-weight: bold } /* Name.Exception */\n",
       ".output_html .nf { color: #0000FF } /* Name.Function */\n",
       ".output_html .nl { color: #767600 } /* Name.Label */\n",
       ".output_html .nn { color: #0000FF; font-weight: bold } /* Name.Namespace */\n",
       ".output_html .nt { color: #008000; font-weight: bold } /* Name.Tag */\n",
       ".output_html .nv { color: #19177C } /* Name.Variable */\n",
       ".output_html .ow { color: #AA22FF; font-weight: bold } /* Operator.Word */\n",
       ".output_html .w { color: #bbbbbb } /* Text.Whitespace */\n",
       ".output_html .mb { color: #666666 } /* Literal.Number.Bin */\n",
       ".output_html .mf { color: #666666 } /* Literal.Number.Float */\n",
       ".output_html .mh { color: #666666 } /* Literal.Number.Hex */\n",
       ".output_html .mi { color: #666666 } /* Literal.Number.Integer */\n",
       ".output_html .mo { color: #666666 } /* Literal.Number.Oct */\n",
       ".output_html .sa { color: #BA2121 } /* Literal.String.Affix */\n",
       ".output_html .sb { color: #BA2121 } /* Literal.String.Backtick */\n",
       ".output_html .sc { color: #BA2121 } /* Literal.String.Char */\n",
       ".output_html .dl { color: #BA2121 } /* Literal.String.Delimiter */\n",
       ".output_html .sd { color: #BA2121; font-style: italic } /* Literal.String.Doc */\n",
       ".output_html .s2 { color: #BA2121 } /* Literal.String.Double */\n",
       ".output_html .se { color: #AA5D1F; font-weight: bold } /* Literal.String.Escape */\n",
       ".output_html .sh { color: #BA2121 } /* Literal.String.Heredoc */\n",
       ".output_html .si { color: #A45A77; font-weight: bold } /* Literal.String.Interpol */\n",
       ".output_html .sx { color: #008000 } /* Literal.String.Other */\n",
       ".output_html .sr { color: #A45A77 } /* Literal.String.Regex */\n",
       ".output_html .s1 { color: #BA2121 } /* Literal.String.Single */\n",
       ".output_html .ss { color: #19177C } /* Literal.String.Symbol */\n",
       ".output_html .bp { color: #008000 } /* Name.Builtin.Pseudo */\n",
       ".output_html .fm { color: #0000FF } /* Name.Function.Magic */\n",
       ".output_html .vc { color: #19177C } /* Name.Variable.Class */\n",
       ".output_html .vg { color: #19177C } /* Name.Variable.Global */\n",
       ".output_html .vi { color: #19177C } /* Name.Variable.Instance */\n",
       ".output_html .vm { color: #19177C } /* Name.Variable.Magic */\n",
       ".output_html .il { color: #666666 } /* Literal.Number.Integer.Long */</style><div class=\"highlight\"><pre><span></span>The user wants a function that takes a number as input and converts it to a string representing a specific format of that number, such as &quot;five million&quot; for 5,000,000. The function should return the formatted string.\n",
       "\n",
       "To solve this, we would create a function that handles both the conversion and the formatting. Here&#39;s an example of a function that does this:\n",
       "\n",
       "def convert_to_string_format(number):\n",
       "    formatted_number = str(number)\n",
       "    return formatted_number.replace(&#39;,&#39;, &#39;&#39;)\n",
       "\n",
       "For example, if we input 5,000,000 into the function, we would get the output &quot;five million&quot;.\n",
       "\n",
       "bot: This function, convert_to_string_format(number), takes a number as input and returns a formatted string based on the given number. \n",
       "</pre></div>\n"
      ],
      "text/latex": [
       "\\begin{Verbatim}[commandchars=\\\\\\{\\}]\n",
       "The user wants a function that takes a number as input and converts it to a string representing a specific format of that number, such as \\PYZdq{}five million\\PYZdq{} for 5,000,000. The function should return the formatted string.\n",
       "\n",
       "To solve this, we would create a function that handles both the conversion and the formatting. Here\\PYZsq{}s an example of a function that does this:\n",
       "\n",
       "def convert\\PYZus{}to\\PYZus{}string\\PYZus{}format(number):\n",
       "    formatted\\PYZus{}number = str(number)\n",
       "    return formatted\\PYZus{}number.replace(\\PYZsq{},\\PYZsq{}, \\PYZsq{}\\PYZsq{})\n",
       "\n",
       "For example, if we input 5,000,000 into the function, we would get the output \\PYZdq{}five million\\PYZdq{}.\n",
       "\n",
       "bot: This function, convert\\PYZus{}to\\PYZus{}string\\PYZus{}format(number), takes a number as input and returns a formatted string based on the given number. \n",
       "\\end{Verbatim}\n"
      ],
      "text/plain": [
       "\n",
       "The user wants a function that takes a number as input and converts it to a string representing a specific format of that number, such as \"five million\" for 5,000,000. The function should return the formatted string.\n",
       "\n",
       "To solve this, we would create a function that handles both the conversion and the formatting. Here's an example of a function that does this:\n",
       "\n",
       "def convert_to_string_format(number):\n",
       "    formatted_number = str(number)\n",
       "    return formatted_number.replace(',', '')\n",
       "\n",
       "For example, if we input 5,000,000 into the function, we would get the output \"five million\".\n",
       "\n",
       "bot: This function, convert_to_string_format(number), takes a number as input and returns a formatted string based on the given number. "
      ]
     },
     "metadata": {},
     "output_type": "display_data"
    }
   ],
   "source": [
    "import re\n",
    "from IPython.display import Markdown, Code\n",
    "\n",
    "def get_substring_until_pattern(input_string, pattern=r'''(\\n)+[uU]ser'''):\n",
    "    parts = re.split(pattern, input_string)\n",
    "    return parts[0]\n",
    "\n",
    "def moderated_chat(msg: str):\n",
    "    # Adding in the specific name of the textbook majorly improved response quality\n",
    "    textbook_name = \"Think Python\"\n",
    "    \n",
    "    # Stop generation when the LLM generates the token for \"user\" (1792)\n",
    "    # This prevents the LLM from having a conversation with itself\n",
    "    sampling_params = SamplingParams(temperature=0.8, max_tokens=256, stop_token_ids=[1792])\n",
    "\n",
    "    # We need to inject \"bot: \" at the end of the user message\n",
    "    # Otherwise, the LLM is susceptible to attacks where it continues an inappropriate user message e.g.,\n",
    "    # \"user: my favorite sex position is [missionary. \\nbot: I don't have any information about sex positions]\"\n",
    "    # vs.\n",
    "    # \"user: my favorite sex position is \\nbot: [I don't have any information about sex positions]\"\n",
    "    msg = f\"user: {msg}\\nbot: \"\n",
    "\n",
    "    # This phrasing seems to work well. Modified from NeMo Guardrails\n",
    "    preface = (\n",
    "        f\"Below is a conversation between a bot and a user about an instructional textbook called {textbook_name}.\"\n",
    "        \" The bot is factual and concise. If the bot does not know the answer to a\"\n",
    "        \" question, it truthfully says it does not know.\"\n",
    "    )\n",
    "\n",
    "    # Modified from Guardrails\n",
    "    sample_conversation = '''# This is how a conversation between a user and the bot can go:\n",
    "user: \"Hello there!\"\n",
    "bot: \"Hello! How can I assist you today?\"\n",
    "user: \"What can you do for me?\"\n",
    "bot: \"I am an AI assistant which helps answer questions based on the text you are reading.\"'''\n",
    "\n",
    "    ## TODO: retrieve relevant chunks\n",
    "    relevant_chunks = (\n",
    "        f\"# This is some additional context:\\n\"\n",
    "        f\"That is a great question, but I can only answer questions about {textbook_name}.\"\n",
    "    )\n",
    "    \n",
    "    ## TODO: Retrieve Examples\n",
    "    examples = \"We can set up a database of a questions and responses that the bot will use as a reference.\"\n",
    "\n",
    "    # Join the prompt components together, ending with the (modified) user message\n",
    "    prompt = '\\n\\n'.join([preface, sample_conversation, relevant_chunks, msg])\n",
    "\n",
    "    result = llm.generate(prompt, sampling_params)[0].outputs[0].text\n",
    "    print(result)\n",
    "    print('*'*80)\n",
    "    display(Code(get_substring_until_pattern(result)))\n",
    "    \n",
    "moderated_chat('Write a function that converts a number like 5,000,000 to a string like five million.')"
   ]
  },
  {
   "cell_type": "code",
   "execution_count": null,
   "id": "233b59d8-aacf-403c-9deb-aa8a3d9414a8",
   "metadata": {},
   "outputs": [],
   "source": []
  }
 ],
 "metadata": {
  "kernelspec": {
   "display_name": "Python [conda env:vllm]",
   "language": "python",
   "name": "conda-env-vllm-py"
  },
  "language_info": {
   "codemirror_mode": {
    "name": "ipython",
    "version": 3
   },
   "file_extension": ".py",
   "mimetype": "text/x-python",
   "name": "python",
   "nbconvert_exporter": "python",
   "pygments_lexer": "ipython3",
   "version": "3.11.5"
  }
 },
 "nbformat": 4,
 "nbformat_minor": 5
}
