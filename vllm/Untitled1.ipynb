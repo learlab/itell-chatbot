{
 "cells": [
  {
   "cell_type": "code",
   "execution_count": 9,
   "id": "cb476728-9e60-4589-b2d0-449b024c9426",
   "metadata": {},
   "outputs": [
    {
     "name": "stdout",
     "output_type": "stream",
     "text": [
      "An error occurred: HTTPSConnectionPool(host='itell-api.learlab.vanderbilt.edu', port=443): Max retries exceeded with url: //retrieve/chunks (Caused by ConnectTimeoutError(<urllib3.connection.HTTPSConnection object at 0x7f684cfbaa90>, 'Connection to itell-api.learlab.vanderbilt.edu timed out. (connect timeout=60)'))\n"
     ]
    }
   ],
   "source": [
    "import requests\n",
    "\n",
    "def call_itell_api():\n",
    "    # API endpoint URL\n",
    "    url = 'https://itell-api.learlab.vanderbilt.edu/retrieve/chunks'\n",
    "\n",
    "    # Headers, including content type\n",
    "    headers = {'Content-Type': 'application/json'}\n",
    "\n",
    "    # Data payload for the POST request\n",
    "    data = {\n",
    "              \"text_slug\": \"string\",\n",
    "              \"page_slug\": \"string\",\n",
    "              \"text\": \"string\",\n",
    "              \"similarity_threshold\": 0,\n",
    "              \"retrieve_strategy\": \"least_similar\",\n",
    "              \"match_count\": 1\n",
    "            }\n",
    "\n",
    "    try:\n",
    "        # Sending a POST request to the API\n",
    "        response = requests.post(url, json=data, headers=headers, timeout=60)  \n",
    "\n",
    "        # Checking if the request was successful\n",
    "        if response.status_code == 200:\n",
    "            # Processing the successful response\n",
    "            response_data = response.json()\n",
    "            print(\"Response from API:\", response_data)\n",
    "        else:\n",
    "            # Handling errors\n",
    "            print(f\"Error: {response.status_code}, {response.text}\")\n",
    "    except requests.exceptions.RequestException as e:\n",
    "        # Handling exceptions for the request\n",
    "        print(f\"An error occurred: {e}\")\n",
    "\n",
    "# Call the function to make the API request\n",
    "call_itell_api()\n"
   ]
  }
 ],
 "metadata": {
  "kernelspec": {
   "display_name": "Python 3 (ipykernel)",
   "language": "python",
   "name": "python3"
  },
  "language_info": {
   "codemirror_mode": {
    "name": "ipython",
    "version": 3
   },
   "file_extension": ".py",
   "mimetype": "text/x-python",
   "name": "python",
   "nbconvert_exporter": "python",
   "pygments_lexer": "ipython3",
   "version": "3.11.6"
  }
 },
 "nbformat": 4,
 "nbformat_minor": 5
}
