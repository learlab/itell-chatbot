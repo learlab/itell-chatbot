{
 "cells": [
  {
   "cell_type": "code",
   "execution_count": null,
   "metadata": {},
   "outputs": [],
   "source": [
    "import pandas as pd, json\n",
    "\n",
    "dfs = dict()\n",
    "dfs['chat'] = pd.read_excel('/Users/vaibhavgupta/Desktop/Live Prompt testing.xlsx', sheet_name='moderated_chat')\n",
    "dfs['SERT'] = pd.read_excel('/Users/vaibhavgupta/Desktop/Live Prompt testing.xlsx', sheet_name='SERT').iloc[:, 2:6]\n",
    "\n",
    "for df in dfs:\n",
    "    dfs[df].columns = dfs[df].iloc[0]\n",
    "    dfs[df] = dfs[df][1:]\n",
    "    print(f\"{df} - {dfs[df].shape}\")\n",
    "\n",
    "chat_prompt_template_components = ['Preface / System Message', 'Student Summary (if provided)', 'Context (if context is provided)', 'History (if chat_history is provided)', 'Example Dialogue', 'User Message']\n",
    "sert_prompt_template_components = ['Preface/System Message', 'user_summary', 'excerpt_chunk', 'question_type_definition']"
   ]
  },
  {
   "cell_type": "code",
   "execution_count": null,
   "metadata": {},
   "outputs": [],
   "source": [
    "prompt_list_chat = list()\n",
    "for idx, row in dfs['chat'].iterrows():\n",
    "    current_prompt = str()\n",
    "    for component in chat_prompt_template_components:\n",
    "        if pd.isnull(row[component]) or row[component] == 'NONE':\n",
    "            continue\n",
    "        current_prompt += '\\n' + row[component]\n",
    "    prompt_list_chat.append(current_prompt.strip())\n",
    "\n",
    "\n",
    "prompt_list_chat = [prompt for prompt in prompt_list_chat if prompt]\n",
    "prompt_list_chat"
   ]
  },
  {
   "cell_type": "code",
   "execution_count": null,
   "metadata": {},
   "outputs": [],
   "source": [
    "file_name_list = ['simple_conversation.jinja2', 'no_summary_and_hyperlink.jinja2', 'no_summary_and_hyperlink_with_deeper_explanation.jinja2', 'no_direct_answers_and_assignments.jinja2', 'no_answer_constructed_responses.jinja2']\n",
    "for idx, chat_prompt in enumerate(prompt_list_chat):\n",
    "    with open('./prompts_chat/'+file_name_list[idx], 'w') as file:\n",
    "        file.write(chat_prompt)"
   ]
  },
  {
   "cell_type": "code",
   "execution_count": null,
   "metadata": {},
   "outputs": [],
   "source": [
    "prompt_list_sert = list()\n",
    "for idx, row in dfs['SERT'].iterrows():\n",
    "    current_prompt = str()\n",
    "    for component in sert_prompt_template_components:\n",
    "        if pd.isnull(row[component]) or row[component] == 'NONE':\n",
    "            continue\n",
    "        current_prompt += '\\n' + row[component]\n",
    "    prompt_list_sert.append(current_prompt.strip())\n",
    "\n",
    "\n",
    "prompt_list_sert = [prompt for prompt in prompt_list_sert if prompt]\n",
    "prompt_list_sert"
   ]
  },
  {
   "cell_type": "code",
   "execution_count": null,
   "metadata": {},
   "outputs": [],
   "source": [
    "file_name_list = ['free_response_question.jinja2', 'system_free_response_question.jinja2', 'free_response_not_mcq.jinja2', 'ai_tutor.jinja2']\n",
    "for idx, sert_prompt in enumerate(prompt_list_sert):\n",
    "    with open('./prompts_sert/'+file_name_list[idx], 'w') as file:\n",
    "        file.write(sert_prompt)"
   ]
  },
  {
   "cell_type": "code",
   "execution_count": null,
   "metadata": {},
   "outputs": [],
   "source": [
    "for prompt in prompt_list_sert:\n",
    "    if prompt in prompt_list_chat:\n",
    "        print(prompt)"
   ]
  },
  {
   "cell_type": "code",
   "execution_count": null,
   "metadata": {},
   "outputs": [],
   "source": [
    "for prompt in prompt_list_chat:\n",
    "    if prompt in prompt_list_sert:\n",
    "        print(prompt)"
   ]
  },
  {
   "cell_type": "code",
   "execution_count": null,
   "metadata": {},
   "outputs": [],
   "source": []
  }
 ],
 "metadata": {
  "kernelspec": {
   "display_name": "env_general",
   "language": "python",
   "name": "python3"
  },
  "language_info": {
   "codemirror_mode": {
    "name": "ipython",
    "version": 3
   },
   "file_extension": ".py",
   "mimetype": "text/x-python",
   "name": "python",
   "nbconvert_exporter": "python",
   "pygments_lexer": "ipython3",
   "version": "3.10.13"
  }
 },
 "nbformat": 4,
 "nbformat_minor": 2
}
